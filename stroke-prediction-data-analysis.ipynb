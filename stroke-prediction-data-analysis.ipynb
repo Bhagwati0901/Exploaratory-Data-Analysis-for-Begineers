{
 "cells": [
  {
   "cell_type": "code",
   "execution_count": 1,
   "id": "076a4d6a",
   "metadata": {
    "_cell_guid": "b1076dfc-b9ad-4769-8c92-a6c4dae69d19",
    "_uuid": "8f2839f25d086af736a60e9eeb907d3b93b6e0e5",
    "execution": {
     "iopub.execute_input": "2022-10-13T18:27:28.951116Z",
     "iopub.status.busy": "2022-10-13T18:27:28.950327Z",
     "iopub.status.idle": "2022-10-13T18:27:28.967565Z",
     "shell.execute_reply": "2022-10-13T18:27:28.966730Z"
    },
    "papermill": {
     "duration": 0.03219,
     "end_time": "2022-10-13T18:27:28.971875",
     "exception": false,
     "start_time": "2022-10-13T18:27:28.939685",
     "status": "completed"
    },
    "tags": []
   },
   "outputs": [
    {
     "name": "stdout",
     "output_type": "stream",
     "text": [
      "/kaggle/input/stroke-prediction-dataset/healthcare-dataset-stroke-data.csv\n"
     ]
    }
   ],
   "source": [
    "# This Python 3 environment comes with many helpful analytics libraries installed\n",
    "# It is defined by the kaggle/python Docker image: https://github.com/kaggle/docker-python\n",
    "# For example, here's several helpful packages to load\n",
    "\n",
    "import numpy as np # linear algebra\n",
    "import pandas as pd # data processing, CSV file I/O (e.g. pd.read_csv)\n",
    "\n",
    "# Input data files are available in the read-only \"../input/\" directory\n",
    "# For example, running this (by clicking run or pressing Shift+Enter) will list all files under the input directory\n",
    "\n",
    "import os\n",
    "for dirname, _, filenames in os.walk('/kaggle/input'):\n",
    "    for filename in filenames:\n",
    "        print(os.path.join(dirname, filename))\n",
    "\n",
    "# You can write up to 20GB to the current directory (/kaggle/working/) that gets preserved as output when you create a version using \"Save & Run All\" \n",
    "# You can also write temporary files to /kaggle/temp/, but they won't be saved outside of the current session"
   ]
  },
  {
   "cell_type": "code",
   "execution_count": 2,
   "id": "cb3c7e80",
   "metadata": {
    "execution": {
     "iopub.execute_input": "2022-10-13T18:27:28.989414Z",
     "iopub.status.busy": "2022-10-13T18:27:28.987191Z",
     "iopub.status.idle": "2022-10-13T18:27:30.017756Z",
     "shell.execute_reply": "2022-10-13T18:27:30.016424Z"
    },
    "papermill": {
     "duration": 1.041997,
     "end_time": "2022-10-13T18:27:30.021077",
     "exception": false,
     "start_time": "2022-10-13T18:27:28.979080",
     "status": "completed"
    },
    "tags": []
   },
   "outputs": [],
   "source": [
    "# Import libraries required for analysis\n",
    "import seaborn as sns\n",
    "import matplotlib.pyplot as plt"
   ]
  },
  {
   "cell_type": "code",
   "execution_count": 3,
   "id": "28b51e2f",
   "metadata": {
    "execution": {
     "iopub.execute_input": "2022-10-13T18:27:30.034394Z",
     "iopub.status.busy": "2022-10-13T18:27:30.033977Z",
     "iopub.status.idle": "2022-10-13T18:27:30.070125Z",
     "shell.execute_reply": "2022-10-13T18:27:30.068876Z"
    },
    "papermill": {
     "duration": 0.046296,
     "end_time": "2022-10-13T18:27:30.072801",
     "exception": false,
     "start_time": "2022-10-13T18:27:30.026505",
     "status": "completed"
    },
    "tags": []
   },
   "outputs": [],
   "source": [
    "# Load stroke-prediction dataset using pandas\n",
    "df = pd.read_csv('../input/stroke-prediction-dataset/healthcare-dataset-stroke-data.csv')"
   ]
  },
  {
   "cell_type": "code",
   "execution_count": 4,
   "id": "6392c31a",
   "metadata": {
    "execution": {
     "iopub.execute_input": "2022-10-13T18:27:30.084764Z",
     "iopub.status.busy": "2022-10-13T18:27:30.084329Z",
     "iopub.status.idle": "2022-10-13T18:27:30.111000Z",
     "shell.execute_reply": "2022-10-13T18:27:30.109869Z"
    },
    "papermill": {
     "duration": 0.035665,
     "end_time": "2022-10-13T18:27:30.113595",
     "exception": false,
     "start_time": "2022-10-13T18:27:30.077930",
     "status": "completed"
    },
    "tags": []
   },
   "outputs": [
    {
     "data": {
      "text/html": [
       "<div>\n",
       "<style scoped>\n",
       "    .dataframe tbody tr th:only-of-type {\n",
       "        vertical-align: middle;\n",
       "    }\n",
       "\n",
       "    .dataframe tbody tr th {\n",
       "        vertical-align: top;\n",
       "    }\n",
       "\n",
       "    .dataframe thead th {\n",
       "        text-align: right;\n",
       "    }\n",
       "</style>\n",
       "<table border=\"1\" class=\"dataframe\">\n",
       "  <thead>\n",
       "    <tr style=\"text-align: right;\">\n",
       "      <th></th>\n",
       "      <th>id</th>\n",
       "      <th>gender</th>\n",
       "      <th>age</th>\n",
       "      <th>hypertension</th>\n",
       "      <th>heart_disease</th>\n",
       "      <th>ever_married</th>\n",
       "      <th>work_type</th>\n",
       "      <th>Residence_type</th>\n",
       "      <th>avg_glucose_level</th>\n",
       "      <th>bmi</th>\n",
       "      <th>smoking_status</th>\n",
       "      <th>stroke</th>\n",
       "    </tr>\n",
       "  </thead>\n",
       "  <tbody>\n",
       "    <tr>\n",
       "      <th>0</th>\n",
       "      <td>9046</td>\n",
       "      <td>Male</td>\n",
       "      <td>67.0</td>\n",
       "      <td>0</td>\n",
       "      <td>1</td>\n",
       "      <td>Yes</td>\n",
       "      <td>Private</td>\n",
       "      <td>Urban</td>\n",
       "      <td>228.69</td>\n",
       "      <td>36.6</td>\n",
       "      <td>formerly smoked</td>\n",
       "      <td>1</td>\n",
       "    </tr>\n",
       "    <tr>\n",
       "      <th>1</th>\n",
       "      <td>51676</td>\n",
       "      <td>Female</td>\n",
       "      <td>61.0</td>\n",
       "      <td>0</td>\n",
       "      <td>0</td>\n",
       "      <td>Yes</td>\n",
       "      <td>Self-employed</td>\n",
       "      <td>Rural</td>\n",
       "      <td>202.21</td>\n",
       "      <td>NaN</td>\n",
       "      <td>never smoked</td>\n",
       "      <td>1</td>\n",
       "    </tr>\n",
       "    <tr>\n",
       "      <th>2</th>\n",
       "      <td>31112</td>\n",
       "      <td>Male</td>\n",
       "      <td>80.0</td>\n",
       "      <td>0</td>\n",
       "      <td>1</td>\n",
       "      <td>Yes</td>\n",
       "      <td>Private</td>\n",
       "      <td>Rural</td>\n",
       "      <td>105.92</td>\n",
       "      <td>32.5</td>\n",
       "      <td>never smoked</td>\n",
       "      <td>1</td>\n",
       "    </tr>\n",
       "    <tr>\n",
       "      <th>3</th>\n",
       "      <td>60182</td>\n",
       "      <td>Female</td>\n",
       "      <td>49.0</td>\n",
       "      <td>0</td>\n",
       "      <td>0</td>\n",
       "      <td>Yes</td>\n",
       "      <td>Private</td>\n",
       "      <td>Urban</td>\n",
       "      <td>171.23</td>\n",
       "      <td>34.4</td>\n",
       "      <td>smokes</td>\n",
       "      <td>1</td>\n",
       "    </tr>\n",
       "    <tr>\n",
       "      <th>4</th>\n",
       "      <td>1665</td>\n",
       "      <td>Female</td>\n",
       "      <td>79.0</td>\n",
       "      <td>1</td>\n",
       "      <td>0</td>\n",
       "      <td>Yes</td>\n",
       "      <td>Self-employed</td>\n",
       "      <td>Rural</td>\n",
       "      <td>174.12</td>\n",
       "      <td>24.0</td>\n",
       "      <td>never smoked</td>\n",
       "      <td>1</td>\n",
       "    </tr>\n",
       "  </tbody>\n",
       "</table>\n",
       "</div>"
      ],
      "text/plain": [
       "      id  gender   age  hypertension  heart_disease ever_married  \\\n",
       "0   9046    Male  67.0             0              1          Yes   \n",
       "1  51676  Female  61.0             0              0          Yes   \n",
       "2  31112    Male  80.0             0              1          Yes   \n",
       "3  60182  Female  49.0             0              0          Yes   \n",
       "4   1665  Female  79.0             1              0          Yes   \n",
       "\n",
       "       work_type Residence_type  avg_glucose_level   bmi   smoking_status  \\\n",
       "0        Private          Urban             228.69  36.6  formerly smoked   \n",
       "1  Self-employed          Rural             202.21   NaN     never smoked   \n",
       "2        Private          Rural             105.92  32.5     never smoked   \n",
       "3        Private          Urban             171.23  34.4           smokes   \n",
       "4  Self-employed          Rural             174.12  24.0     never smoked   \n",
       "\n",
       "   stroke  \n",
       "0       1  \n",
       "1       1  \n",
       "2       1  \n",
       "3       1  \n",
       "4       1  "
      ]
     },
     "execution_count": 4,
     "metadata": {},
     "output_type": "execute_result"
    }
   ],
   "source": [
    "# Get top 5 rows of data to gain intution of structure of dataset\n",
    "# head(10) - output will be 10 rows from starting\n",
    "# default value - 5\n",
    "df.head()"
   ]
  },
  {
   "cell_type": "code",
   "execution_count": 5,
   "id": "d97fe8fb",
   "metadata": {
    "execution": {
     "iopub.execute_input": "2022-10-13T18:27:30.125252Z",
     "iopub.status.busy": "2022-10-13T18:27:30.124847Z",
     "iopub.status.idle": "2022-10-13T18:27:30.169106Z",
     "shell.execute_reply": "2022-10-13T18:27:30.167587Z"
    },
    "papermill": {
     "duration": 0.053327,
     "end_time": "2022-10-13T18:27:30.171943",
     "exception": false,
     "start_time": "2022-10-13T18:27:30.118616",
     "status": "completed"
    },
    "tags": []
   },
   "outputs": [
    {
     "data": {
      "text/html": [
       "<div>\n",
       "<style scoped>\n",
       "    .dataframe tbody tr th:only-of-type {\n",
       "        vertical-align: middle;\n",
       "    }\n",
       "\n",
       "    .dataframe tbody tr th {\n",
       "        vertical-align: top;\n",
       "    }\n",
       "\n",
       "    .dataframe thead th {\n",
       "        text-align: right;\n",
       "    }\n",
       "</style>\n",
       "<table border=\"1\" class=\"dataframe\">\n",
       "  <thead>\n",
       "    <tr style=\"text-align: right;\">\n",
       "      <th></th>\n",
       "      <th>id</th>\n",
       "      <th>age</th>\n",
       "      <th>hypertension</th>\n",
       "      <th>heart_disease</th>\n",
       "      <th>avg_glucose_level</th>\n",
       "      <th>bmi</th>\n",
       "      <th>stroke</th>\n",
       "    </tr>\n",
       "  </thead>\n",
       "  <tbody>\n",
       "    <tr>\n",
       "      <th>count</th>\n",
       "      <td>5110.000000</td>\n",
       "      <td>5110.000000</td>\n",
       "      <td>5110.000000</td>\n",
       "      <td>5110.000000</td>\n",
       "      <td>5110.000000</td>\n",
       "      <td>4909.000000</td>\n",
       "      <td>5110.000000</td>\n",
       "    </tr>\n",
       "    <tr>\n",
       "      <th>mean</th>\n",
       "      <td>36517.829354</td>\n",
       "      <td>43.226614</td>\n",
       "      <td>0.097456</td>\n",
       "      <td>0.054012</td>\n",
       "      <td>106.147677</td>\n",
       "      <td>28.893237</td>\n",
       "      <td>0.048728</td>\n",
       "    </tr>\n",
       "    <tr>\n",
       "      <th>std</th>\n",
       "      <td>21161.721625</td>\n",
       "      <td>22.612647</td>\n",
       "      <td>0.296607</td>\n",
       "      <td>0.226063</td>\n",
       "      <td>45.283560</td>\n",
       "      <td>7.854067</td>\n",
       "      <td>0.215320</td>\n",
       "    </tr>\n",
       "    <tr>\n",
       "      <th>min</th>\n",
       "      <td>67.000000</td>\n",
       "      <td>0.080000</td>\n",
       "      <td>0.000000</td>\n",
       "      <td>0.000000</td>\n",
       "      <td>55.120000</td>\n",
       "      <td>10.300000</td>\n",
       "      <td>0.000000</td>\n",
       "    </tr>\n",
       "    <tr>\n",
       "      <th>25%</th>\n",
       "      <td>17741.250000</td>\n",
       "      <td>25.000000</td>\n",
       "      <td>0.000000</td>\n",
       "      <td>0.000000</td>\n",
       "      <td>77.245000</td>\n",
       "      <td>23.500000</td>\n",
       "      <td>0.000000</td>\n",
       "    </tr>\n",
       "    <tr>\n",
       "      <th>50%</th>\n",
       "      <td>36932.000000</td>\n",
       "      <td>45.000000</td>\n",
       "      <td>0.000000</td>\n",
       "      <td>0.000000</td>\n",
       "      <td>91.885000</td>\n",
       "      <td>28.100000</td>\n",
       "      <td>0.000000</td>\n",
       "    </tr>\n",
       "    <tr>\n",
       "      <th>75%</th>\n",
       "      <td>54682.000000</td>\n",
       "      <td>61.000000</td>\n",
       "      <td>0.000000</td>\n",
       "      <td>0.000000</td>\n",
       "      <td>114.090000</td>\n",
       "      <td>33.100000</td>\n",
       "      <td>0.000000</td>\n",
       "    </tr>\n",
       "    <tr>\n",
       "      <th>max</th>\n",
       "      <td>72940.000000</td>\n",
       "      <td>82.000000</td>\n",
       "      <td>1.000000</td>\n",
       "      <td>1.000000</td>\n",
       "      <td>271.740000</td>\n",
       "      <td>97.600000</td>\n",
       "      <td>1.000000</td>\n",
       "    </tr>\n",
       "  </tbody>\n",
       "</table>\n",
       "</div>"
      ],
      "text/plain": [
       "                 id          age  hypertension  heart_disease  \\\n",
       "count   5110.000000  5110.000000   5110.000000    5110.000000   \n",
       "mean   36517.829354    43.226614      0.097456       0.054012   \n",
       "std    21161.721625    22.612647      0.296607       0.226063   \n",
       "min       67.000000     0.080000      0.000000       0.000000   \n",
       "25%    17741.250000    25.000000      0.000000       0.000000   \n",
       "50%    36932.000000    45.000000      0.000000       0.000000   \n",
       "75%    54682.000000    61.000000      0.000000       0.000000   \n",
       "max    72940.000000    82.000000      1.000000       1.000000   \n",
       "\n",
       "       avg_glucose_level          bmi       stroke  \n",
       "count        5110.000000  4909.000000  5110.000000  \n",
       "mean          106.147677    28.893237     0.048728  \n",
       "std            45.283560     7.854067     0.215320  \n",
       "min            55.120000    10.300000     0.000000  \n",
       "25%            77.245000    23.500000     0.000000  \n",
       "50%            91.885000    28.100000     0.000000  \n",
       "75%           114.090000    33.100000     0.000000  \n",
       "max           271.740000    97.600000     1.000000  "
      ]
     },
     "execution_count": 5,
     "metadata": {},
     "output_type": "execute_result"
    }
   ],
   "source": [
    "# statistical data of each numeric feature of dataset\n",
    "df.describe()"
   ]
  },
  {
   "cell_type": "code",
   "execution_count": 6,
   "id": "a38cfbb4",
   "metadata": {
    "execution": {
     "iopub.execute_input": "2022-10-13T18:27:30.184473Z",
     "iopub.status.busy": "2022-10-13T18:27:30.183704Z",
     "iopub.status.idle": "2022-10-13T18:27:30.205695Z",
     "shell.execute_reply": "2022-10-13T18:27:30.204261Z"
    },
    "papermill": {
     "duration": 0.033027,
     "end_time": "2022-10-13T18:27:30.210285",
     "exception": false,
     "start_time": "2022-10-13T18:27:30.177258",
     "status": "completed"
    },
    "tags": []
   },
   "outputs": [
    {
     "name": "stdout",
     "output_type": "stream",
     "text": [
      "<class 'pandas.core.frame.DataFrame'>\n",
      "RangeIndex: 5110 entries, 0 to 5109\n",
      "Data columns (total 12 columns):\n",
      " #   Column             Non-Null Count  Dtype  \n",
      "---  ------             --------------  -----  \n",
      " 0   id                 5110 non-null   int64  \n",
      " 1   gender             5110 non-null   object \n",
      " 2   age                5110 non-null   float64\n",
      " 3   hypertension       5110 non-null   int64  \n",
      " 4   heart_disease      5110 non-null   int64  \n",
      " 5   ever_married       5110 non-null   object \n",
      " 6   work_type          5110 non-null   object \n",
      " 7   Residence_type     5110 non-null   object \n",
      " 8   avg_glucose_level  5110 non-null   float64\n",
      " 9   bmi                4909 non-null   float64\n",
      " 10  smoking_status     5110 non-null   object \n",
      " 11  stroke             5110 non-null   int64  \n",
      "dtypes: float64(3), int64(4), object(5)\n",
      "memory usage: 479.2+ KB\n"
     ]
    }
   ],
   "source": [
    "df.info()"
   ]
  },
  {
   "cell_type": "code",
   "execution_count": 7,
   "id": "53cb45b2",
   "metadata": {
    "execution": {
     "iopub.execute_input": "2022-10-13T18:27:30.223315Z",
     "iopub.status.busy": "2022-10-13T18:27:30.222576Z",
     "iopub.status.idle": "2022-10-13T18:27:30.231732Z",
     "shell.execute_reply": "2022-10-13T18:27:30.229930Z"
    },
    "papermill": {
     "duration": 0.018632,
     "end_time": "2022-10-13T18:27:30.234584",
     "exception": false,
     "start_time": "2022-10-13T18:27:30.215952",
     "status": "completed"
    },
    "tags": []
   },
   "outputs": [
    {
     "data": {
      "text/plain": [
       "0    4861\n",
       "1     249\n",
       "Name: stroke, dtype: int64"
      ]
     },
     "execution_count": 7,
     "metadata": {},
     "output_type": "execute_result"
    }
   ],
   "source": [
    "# check if data is balance or imbalance dataset\n",
    "df['stroke'].value_counts()"
   ]
  },
  {
   "cell_type": "markdown",
   "id": "be9a0c09",
   "metadata": {
    "papermill": {
     "duration": 0.00509,
     "end_time": "2022-10-13T18:27:30.245214",
     "exception": false,
     "start_time": "2022-10-13T18:27:30.240124",
     "status": "completed"
    },
    "tags": []
   },
   "source": [
    "**count of 0(person which had not stroke) is much greater than count of 1(stroke affected person).so this is imbalance dataset.**"
   ]
  },
  {
   "cell_type": "markdown",
   "id": "ad938b4c",
   "metadata": {
    "papermill": {
     "duration": 0.005338,
     "end_time": "2022-10-13T18:27:30.255912",
     "exception": false,
     "start_time": "2022-10-13T18:27:30.250574",
     "status": "completed"
    },
    "tags": []
   },
   "source": [
    "# Missing/Null Values "
   ]
  },
  {
   "cell_type": "code",
   "execution_count": 8,
   "id": "153f9dae",
   "metadata": {
    "execution": {
     "iopub.execute_input": "2022-10-13T18:27:30.268705Z",
     "iopub.status.busy": "2022-10-13T18:27:30.267975Z",
     "iopub.status.idle": "2022-10-13T18:27:30.277448Z",
     "shell.execute_reply": "2022-10-13T18:27:30.276670Z"
    },
    "papermill": {
     "duration": 0.018322,
     "end_time": "2022-10-13T18:27:30.279516",
     "exception": false,
     "start_time": "2022-10-13T18:27:30.261194",
     "status": "completed"
    },
    "tags": []
   },
   "outputs": [
    {
     "data": {
      "text/plain": [
       "id                     0\n",
       "gender                 0\n",
       "age                    0\n",
       "hypertension           0\n",
       "heart_disease          0\n",
       "ever_married           0\n",
       "work_type              0\n",
       "Residence_type         0\n",
       "avg_glucose_level      0\n",
       "bmi                  201\n",
       "smoking_status         0\n",
       "stroke                 0\n",
       "dtype: int64"
      ]
     },
     "execution_count": 8,
     "metadata": {},
     "output_type": "execute_result"
    }
   ],
   "source": [
    "# check if any column has null values  \n",
    "df.isnull().sum()"
   ]
  },
  {
   "cell_type": "markdown",
   "id": "431e978b",
   "metadata": {
    "papermill": {
     "duration": 0.005116,
     "end_time": "2022-10-13T18:27:30.290077",
     "exception": false,
     "start_time": "2022-10-13T18:27:30.284961",
     "status": "completed"
    },
    "tags": []
   },
   "source": [
    "As you observed all features have null count zero but bmi has 201 null values.There are some ways to fill these null values according to situation :\n",
    "* if count of null values is high(with respect to total count).Then we just remove that feature/col.\n",
    "* if count is less then we will fill with mean or median of that column.\n",
    "\n",
    "In this example 201 is null out of 5110,so it is not much high. In this case we can fill either mean or median in place these 201 values. if distribution of bmi is not skewed much(either positive or negative) then we can use mean, otherwise meadian.so first check distribution plot of bmi :"
   ]
  },
  {
   "cell_type": "code",
   "execution_count": 9,
   "id": "9653152b",
   "metadata": {
    "execution": {
     "iopub.execute_input": "2022-10-13T18:27:30.303082Z",
     "iopub.status.busy": "2022-10-13T18:27:30.302387Z",
     "iopub.status.idle": "2022-10-13T18:27:30.747701Z",
     "shell.execute_reply": "2022-10-13T18:27:30.746332Z"
    },
    "papermill": {
     "duration": 0.455299,
     "end_time": "2022-10-13T18:27:30.750752",
     "exception": false,
     "start_time": "2022-10-13T18:27:30.295453",
     "status": "completed"
    },
    "tags": []
   },
   "outputs": [
    {
     "data": {
      "text/plain": [
       "<seaborn.axisgrid.FacetGrid at 0x7f013cd78350>"
      ]
     },
     "execution_count": 9,
     "metadata": {},
     "output_type": "execute_result"
    },
    {
     "data": {
      "image/png": "[encoded data removed]",
      "text/plain": [
       "<Figure size 360x360 with 1 Axes>"
      ]
     },
     "metadata": {
      "needs_background": "light"
     },
     "output_type": "display_data"
    }
   ],
   "source": [
    "# Distribution plot\n",
    "sns.displot(df,x='bmi',binwidth=4,kde=True)"
   ]
  },
  {
   "cell_type": "code",
   "execution_count": 10,
   "id": "64f42e2f",
   "metadata": {
    "execution": {
     "iopub.execute_input": "2022-10-13T18:27:30.765012Z",
     "iopub.status.busy": "2022-10-13T18:27:30.763929Z",
     "iopub.status.idle": "2022-10-13T18:27:30.771038Z",
     "shell.execute_reply": "2022-10-13T18:27:30.769786Z"
    },
    "papermill": {
     "duration": 0.01665,
     "end_time": "2022-10-13T18:27:30.773518",
     "exception": false,
     "start_time": "2022-10-13T18:27:30.756868",
     "status": "completed"
    },
    "tags": []
   },
   "outputs": [],
   "source": [
    "# As distribution is not very skewed, so we just fill mean.\n",
    "df['bmi'].fillna(value=df['bmi'].mean(),inplace=True)"
   ]
  },
  {
   "cell_type": "markdown",
   "id": "f1d7e195",
   "metadata": {
    "papermill": {
     "duration": 0.005835,
     "end_time": "2022-10-13T18:27:30.785250",
     "exception": false,
     "start_time": "2022-10-13T18:27:30.779415",
     "status": "completed"
    },
    "tags": []
   },
   "source": [
    "# Exploratory Data Analysis"
   ]
  },
  {
   "cell_type": "code",
   "execution_count": 11,
   "id": "67630011",
   "metadata": {
    "execution": {
     "iopub.execute_input": "2022-10-13T18:27:30.798924Z",
     "iopub.status.busy": "2022-10-13T18:27:30.798506Z",
     "iopub.status.idle": "2022-10-13T18:27:31.091943Z",
     "shell.execute_reply": "2022-10-13T18:27:31.090585Z"
    },
    "papermill": {
     "duration": 0.303657,
     "end_time": "2022-10-13T18:27:31.094748",
     "exception": false,
     "start_time": "2022-10-13T18:27:30.791091",
     "status": "completed"
    },
    "tags": []
   },
   "outputs": [
    {
     "data": {
      "text/plain": [
       "<AxesSubplot:xlabel='stroke', ylabel='bmi'>"
      ]
     },
     "execution_count": 11,
     "metadata": {},
     "output_type": "execute_result"
    },
    {
     "data": {
      "image/png": "[encoded data removed]",
      "text/plain": [
       "<Figure size 432x288 with 1 Axes>"
      ]
     },
     "metadata": {
      "needs_background": "light"
     },
     "output_type": "display_data"
    }
   ],
   "source": [
    "sns.barplot(data=df,x='stroke',y='bmi')"
   ]
  },
  {
   "cell_type": "code",
   "execution_count": 12,
   "id": "082ddfdf",
   "metadata": {
    "execution": {
     "iopub.execute_input": "2022-10-13T18:27:31.111139Z",
     "iopub.status.busy": "2022-10-13T18:27:31.110674Z",
     "iopub.status.idle": "2022-10-13T18:27:31.708991Z",
     "shell.execute_reply": "2022-10-13T18:27:31.707845Z"
    },
    "papermill": {
     "duration": 0.609081,
     "end_time": "2022-10-13T18:27:31.711340",
     "exception": false,
     "start_time": "2022-10-13T18:27:31.102259",
     "status": "completed"
    },
    "tags": []
   },
   "outputs": [
    {
     "data": {
      "text/plain": [
       "<AxesSubplot:xlabel='age', ylabel='Count'>"
      ]
     },
     "execution_count": 12,
     "metadata": {},
     "output_type": "execute_result"
    },
    {
     "data": {
      "image/png": "[encoded data removed]",
      "text/plain": [
       "<Figure size 1800x720 with 1 Axes>"
      ]
     },
     "metadata": {
      "needs_background": "light"
     },
     "output_type": "display_data"
    }
   ],
   "source": [
    "plt.figure(figsize=(25,10))\n",
    "sns.set_style(style='whitegrid')\n",
    "sns.histplot(data=df,x='age',bins=30,binwidth=2,hue='stroke')"
   ]
  },
  {
   "cell_type": "code",
   "execution_count": 13,
   "id": "ef763d29",
   "metadata": {
    "execution": {
     "iopub.execute_input": "2022-10-13T18:27:31.726797Z",
     "iopub.status.busy": "2022-10-13T18:27:31.726362Z",
     "iopub.status.idle": "2022-10-13T18:27:32.049368Z",
     "shell.execute_reply": "2022-10-13T18:27:32.048045Z"
    },
    "papermill": {
     "duration": 0.334473,
     "end_time": "2022-10-13T18:27:32.052519",
     "exception": false,
     "start_time": "2022-10-13T18:27:31.718046",
     "status": "completed"
    },
    "tags": []
   },
   "outputs": [
    {
     "data": {
      "text/plain": [
       "<AxesSubplot:xlabel='avg_glucose_level', ylabel='bmi'>"
      ]
     },
     "execution_count": 13,
     "metadata": {},
     "output_type": "execute_result"
    },
    {
     "data": {
      "image/png": "[encoded data removed]",
      "text/plain": [
       "<Figure size 432x288 with 1 Axes>"
      ]
     },
     "metadata": {},
     "output_type": "display_data"
    }
   ],
   "source": [
    "sns.scatterplot(data=df[:500],x='avg_glucose_level',y='bmi',hue='stroke')"
   ]
  }
 ],
 "metadata": {
  "kernelspec": {
   "display_name": "Python 3",
   "language": "python",
   "name": "python3"
  },
  "language_info": {
   "codemirror_mode": {
    "name": "ipython",
    "version": 3
   },
   "file_extension": ".py",
   "mimetype": "text/x-python",
   "name": "python",
   "nbconvert_exporter": "python",
   "pygments_lexer": "ipython3",
   "version": "3.7.12"
  },
  "papermill": {
   "default_parameters": {},
   "duration": 13.120585,
   "end_time": "2022-10-13T18:27:32.782315",
   "environment_variables": {},
   "exception": null,
   "input_path": "__notebook__.ipynb",
   "output_path": "__notebook__.ipynb",
   "parameters": {},
   "start_time": "2022-10-13T18:27:19.661730",
   "version": "2.3.4"
  }
 },
 "nbformat": 4,
 "nbformat_minor": 5
}
